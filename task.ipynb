{
 "cells": [
  {
   "cell_type": "code",
   "execution_count": null,
   "id": "ae3e8791",
   "metadata": {},
   "outputs": [],
   "source": [
    "def main():\n",
    "    p = float(sys.stdin.read().strip())\n",
    "    result = 1.0 / (p * p * (1 - p))\n",
    "    print(f\"{result:.4f}\")"
   ]
  }
 ],
 "metadata": {
  "language_info": {
   "name": "python"
  }
 },
 "nbformat": 4,
 "nbformat_minor": 5
}
